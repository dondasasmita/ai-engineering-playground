{
 "cells": [
  {
   "cell_type": "markdown",
   "id": "c98f9202-1bd9-4bf9-ba61-a0fe2b37a842",
   "metadata": {},
   "source": [
    "# Machine Learning Workshop - 10\n",
    "\n",
    "- Name : Donda Yusuf\n",
    "- Program : Big Data Engineering (EEP Student)\n"
   ]
  },
  {
   "cell_type": "markdown",
   "id": "47f3d452-44c9-4b3d-9055-2bbabc1be128",
   "metadata": {},
   "source": [
    "## Exercise 1\n",
    "\n",
    "a) What is 8 to the power 4?\n",
    "b) Split this string “Split this string”\n",
    "c) Given the variables: planet = “Earth”, diameter = 12742, use .format() to print the following\n",
    "string “The diameter of Earth is 12742 kilometers.”\n",
    "d) Given the name list, use indexing to grab word “target”, the_list =\n",
    "[1,2,[3,4],[5,[100,200,['target']],23,11],1,7]\n",
    "e) Given this nest dictionary grab the work “hello”. The_dic =\n",
    "{'k1':[1,2,3,{'tricky':['oh','man','inception',{'target':[1,2,3,'hello']}]}]}\n",
    "f) Create a basic function that returns True if the word 'elephant' is contained in the input string.\n",
    "Don't worry about edge cases like a punctuation being attached to the word dog, but do\n",
    "account for capitalization.\n",
    "g) Create a function that counts the number of times the word \"elephant\" occurs in a string.\n",
    "Again ignore edge cases.\n",
    "h) Write a function to return one of 3 possible results: \"Low speed\", \"Medium speed\", or \"Fast\n",
    "speed\". If your speed is 60 or less, the result is \"Low speed\". If speed is between 61 and 80\n",
    "inclusive, the result is \"Medium speed\". If speed is 81 or more, the result is \"Fast speed\".\n",
    "Unless it is your birthday (encoded as a boolean value in the parameters of the function) -- on\n",
    "your birthday, your speed can be 5 higher in all cases."
   ]
  },
  {
   "cell_type": "code",
   "execution_count": 2,
   "id": "633aa487-fb78-4cf8-9f70-61f24797fa64",
   "metadata": {},
   "outputs": [
    {
     "name": "stdout",
     "output_type": "stream",
     "text": [
      "4096\n"
     ]
    }
   ],
   "source": [
    "# Question 1\n",
    "result = 8 ** 4\n",
    "print(result)"
   ]
  },
  {
   "cell_type": "code",
   "execution_count": 3,
   "id": "1bacd5f4-4ee9-4022-be9c-c92078110d53",
   "metadata": {},
   "outputs": [
    {
     "name": "stdout",
     "output_type": "stream",
     "text": [
      "['Split', 'this', 'string']\n"
     ]
    }
   ],
   "source": [
    "# Question 2\n",
    "def split_string(input_string):\n",
    "    return input_string.split()\n",
    "\n",
    "input_string = \"Split this string\"\n",
    "print(split_string(input_string))"
   ]
  },
  {
   "cell_type": "code",
   "execution_count": 5,
   "id": "5699273f-e1b1-4e3d-80c1-2a2b85a81f1a",
   "metadata": {},
   "outputs": [
    {
     "name": "stdout",
     "output_type": "stream",
     "text": [
      "The diameter of Earth is 12,742 kilometers.\n"
     ]
    }
   ],
   "source": [
    "# Question 3\n",
    "planet = \"Earth\"\n",
    "diameter = 12742\n",
    "\n",
    "print(\"The diameter of {0} is {1:,} kilometers.\".format(planet, diameter))"
   ]
  },
  {
   "cell_type": "code",
   "execution_count": 15,
   "id": "664de665-9d43-4472-a938-e215cc0c0b6a",
   "metadata": {},
   "outputs": [
    {
     "name": "stdout",
     "output_type": "stream",
     "text": [
      "Found 'target' at index [3, 1, 2, 0]\n",
      "['target']\n"
     ]
    }
   ],
   "source": [
    "# Question 4\n",
    "the_list = [1,2,[3,4],[5,[100,200,['target']],23,11],1,7]\n",
    "the_list_2 = [1,2,[3,4],[5,[100,200],23,11],1,7,['target']]\n",
    "\n",
    "def find_target(lst, index=[]):\n",
    "    for i, element in enumerate(lst):\n",
    "        new_index = index + [i]\n",
    "        if element == 'target':\n",
    "            return new_index\n",
    "        elif isinstance(element, list):\n",
    "            result = find_target(element, new_index)\n",
    "            if result:\n",
    "                return result\n",
    "    return None\n",
    "\n",
    "result = find_target(the_list)\n",
    "if result:\n",
    "    print(f\"Found 'target' at index {result}\")\n",
    "else:\n",
    "    print(\"Not found\")\n",
    "    \n",
    "print(the_list[3][1][2])"
   ]
  },
  {
   "cell_type": "code",
   "execution_count": 17,
   "id": "7773e937-494d-4117-b1ce-fc6b74e0f283",
   "metadata": {},
   "outputs": [
    {
     "name": "stdout",
     "output_type": "stream",
     "text": [
      "hello\n"
     ]
    }
   ],
   "source": [
    "# Question 5\n",
    "The_dic = {'k1':[1,2,3,{'tricky':['oh','man','inception',{'target':[1,2,3,'hello']}]}]}\n",
    "\n",
    "hello = The_dic['k1'][3]['tricky'][3]['target'][3]\n",
    "print(hello)"
   ]
  },
  {
   "cell_type": "code",
   "execution_count": 18,
   "id": "a815e45a-c67f-4bd7-b0d1-afc55a446d02",
   "metadata": {},
   "outputs": [
    {
     "name": "stdout",
     "output_type": "stream",
     "text": [
      "True\n",
      "False\n",
      "True\n"
     ]
    }
   ],
   "source": [
    "# Question 6\n",
    "def contains_elephant(input_string):\n",
    "    return 'elephant' in input_string.casefold()\n",
    "\n",
    "print(contains_elephant(\"I love elephants\"))  \n",
    "print(contains_elephant(\"The dog is very happy\"))  \n",
    "print(contains_elephant(\"The Elephant is huge\")) "
   ]
  },
  {
   "cell_type": "code",
   "execution_count": 19,
   "id": "532473e5-258e-4259-879c-256bf125ea6b",
   "metadata": {},
   "outputs": [
    {
     "name": "stdout",
     "output_type": "stream",
     "text": [
      "2\n",
      "0\n",
      "2\n"
     ]
    }
   ],
   "source": [
    "# Question 7\n",
    "def count_elephants(input_string):\n",
    "    return input_string.casefold().count('elephant')\n",
    "\n",
    "print(count_elephants(\"I love elephants, elephants are huge\"))  \n",
    "print(count_elephants(\"The dog is very happy\")) \n",
    "print(count_elephants(\"The Elephant is huge, I love elephants\"))  "
   ]
  },
  {
   "cell_type": "code",
   "execution_count": 22,
   "id": "bdb21e14-6e95-4d11-a343-2732e0a3ae1a",
   "metadata": {},
   "outputs": [
    {
     "name": "stdout",
     "output_type": "stream",
     "text": [
      "Medium speed\n",
      "Medium speed\n",
      "Fast speed\n",
      "Medium speed\n"
     ]
    }
   ],
   "source": [
    "# Question 8\n",
    "def speed_category(speed, is_birthday):\n",
    "    if is_birthday:\n",
    "        speed -= 5\n",
    "    if speed <= 60:\n",
    "        return \"Low speed\"\n",
    "    elif 61 <= speed <= 80:\n",
    "        return \"Medium speed\"\n",
    "    else:\n",
    "        return \"Fast speed\"\n",
    "\n",
    "# Example usage:\n",
    "print(speed_category(70, False))  # Returns: \"Medium speed\"\n",
    "print(speed_category(70, True))   # Returns: \"Low speed\" (because 70 - 5 = 65, which is still \"Low speed\")\n",
    "print(speed_category(85, False))  # Returns: \"Fast speed\"\n",
    "print(speed_category(85, True))   # Returns: \"Medium speed\" (because 85 - 5 = 80, which is \"Medium speed\")"
   ]
  },
  {
   "cell_type": "markdown",
   "id": "4ea3bb92-a796-44f0-8bba-00a334202b6c",
   "metadata": {},
   "source": [
    "## Exercise 2 - PySpark operations on DataFrame."
   ]
  },
  {
   "cell_type": "code",
   "execution_count": 23,
   "id": "aebc4113-bcbf-44e8-895e-858f710c0184",
   "metadata": {},
   "outputs": [],
   "source": [
    "from pyspark.sql import SparkSession\n",
    "from pyspark.sql.functions import col, min, max, avg, sum\n",
    "\n",
    "spark = SparkSession.builder.appName(\"Employee Data\").getOrCreate()\n",
    "\n",
    "# The Data\n",
    "data = [(\"James\",\"Sales\",\"SG\",70000,34,10000),\n",
    "(\"Michael\",\"Sales\",\"SG\",66000,56,20000),\n",
    "(\"Robert\",\"Sales\",\"MY\",61000,30,23000),\n",
    "(\"Maria\",\"Finance\",\"MY\",60000,24,23000),\n",
    "(\"Raman\",\"Finance\",\"USA\",79000,40,24000),\n",
    "(\"Scott\",\"Finance\",\"USA\",63000,36,19000),\n",
    "(\"Jen\",\"Finance\",\"UK\",89000,53,15000),\n",
    "(\"Jeff\",\"Finance\",\"UK\",70000,25,18000),\n",
    "(\"Alice\",\"Marketing\",\"UK\",78000,50,21000),\n",
    "(\"Ada\",\"IT\",\"SG\",83000,35,11000),\n",
    "(\"Jackson\",\"IT\",\"MY\",71000,30,21000),\n",
    "(\"Cooper\",\"IT\",\"UK\",91000,40,21000)]\n",
    "\n",
    "# DataFrame\n",
    "df = spark.createDataFrame(data, [\"employee_name\", \"department\", \"country\", \"salary\", \"age\", \"bonus\"])"
   ]
  },
  {
   "cell_type": "code",
   "execution_count": 24,
   "id": "488492ca-6062-4612-ab9b-53a4ffe5b204",
   "metadata": {},
   "outputs": [
    {
     "name": "stdout",
     "output_type": "stream",
     "text": [
      "root\n",
      " |-- employee_name: string (nullable = true)\n",
      " |-- department: string (nullable = true)\n",
      " |-- country: string (nullable = true)\n",
      " |-- salary: long (nullable = true)\n",
      " |-- age: long (nullable = true)\n",
      " |-- bonus: long (nullable = true)\n",
      "\n"
     ]
    }
   ],
   "source": [
    "# Show data and print schema\n",
    "df.printSchema()"
   ]
  },
  {
   "cell_type": "code",
   "execution_count": 29,
   "id": "2915b3a2-ca3d-42b1-a03c-d900229736b8",
   "metadata": {},
   "outputs": [
    {
     "name": "stdout",
     "output_type": "stream",
     "text": [
      "+----------+----------+----------+-----------------+------------+\n",
      "|department|min_salary|max_salary|       avg_salary|total_salary|\n",
      "+----------+----------+----------+-----------------+------------+\n",
      "|     Sales|     61000|     70000|65666.66666666667|      197000|\n",
      "|   Finance|     60000|     89000|          72200.0|      361000|\n",
      "| Marketing|     78000|     78000|          78000.0|       78000|\n",
      "|        IT|     71000|     91000|81666.66666666667|      245000|\n",
      "+----------+----------+----------+-----------------+------------+\n",
      "\n"
     ]
    }
   ],
   "source": [
    "# Run groupBy() on “department” columns. \n",
    "# Calculate aggregates like minimum, maximum, average, \n",
    "# total salary for each group using min(), max(), avg() and sum() aggregate functions respectively.\n",
    "\n",
    "df.groupBy(\"department\").agg(\n",
    "    min(\"salary\").alias(\"min_salary\"),\n",
    "    max(\"salary\").alias(\"max_salary\"),\n",
    "    avg(\"salary\").alias(\"avg_salary\"),\n",
    "    sum(\"salary\").alias(\"total_salary\")\n",
    ").show()"
   ]
  },
  {
   "cell_type": "code",
   "execution_count": 30,
   "id": "3d002940-9525-4686-a302-4dd4837703ed",
   "metadata": {},
   "outputs": [
    {
     "name": "stdout",
     "output_type": "stream",
     "text": [
      "+-------+----------+----------+----------+------------+\n",
      "|country|min_salary|max_salary|avg_salary|total_salary|\n",
      "+-------+----------+----------+----------+------------+\n",
      "|     SG|     66000|     83000|   73000.0|      219000|\n",
      "|     MY|     60000|     71000|   64000.0|      192000|\n",
      "|    USA|     63000|     79000|   71000.0|      142000|\n",
      "|     UK|     70000|     91000|   82000.0|      328000|\n",
      "+-------+----------+----------+----------+------------+\n",
      "\n"
     ]
    }
   ],
   "source": [
    "# Run groupBy() on “country” columns. Calculate aggregates like minimum, maximum, average,\n",
    "# total salary for each group using min(), max(), avg() and sum() aggregate functions respectively.\n",
    "\n",
    "df.groupBy(\"country\").agg(\n",
    "    min(\"salary\").alias(\"min_salary\"),\n",
    "    max(\"salary\").alias(\"max_salary\"),\n",
    "    avg(\"salary\").alias(\"avg_salary\"),\n",
    "    sum(\"salary\").alias(\"total_salary\")\n",
    ").show()"
   ]
  }
 ],
 "metadata": {
  "kernelspec": {
   "display_name": "Python 3 (ipykernel)",
   "language": "python",
   "name": "python3"
  },
  "language_info": {
   "codemirror_mode": {
    "name": "ipython",
    "version": 3
   },
   "file_extension": ".py",
   "mimetype": "text/x-python",
   "name": "python",
   "nbconvert_exporter": "python",
   "pygments_lexer": "ipython3",
   "version": "3.11.6"
  }
 },
 "nbformat": 4,
 "nbformat_minor": 5
}
