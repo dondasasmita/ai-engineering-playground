{
 "cells": [
  {
   "cell_type": "code",
   "execution_count": 33,
   "metadata": {},
   "outputs": [],
   "source": [
    "import cohere\n",
    "from cohere import ClassifyExample\n",
    "import json\n",
    "import dotenv\n",
    "\n",
    "import os\n",
    "\n",
    "dotenv.load_dotenv(\".env\")\n",
    "\n",
    "co = cohere.Client(api_key=os.getenv(\"COHERE_CLIENT_API_KEY\"))"
   ]
  },
  {
   "cell_type": "code",
   "execution_count": 34,
   "metadata": {},
   "outputs": [],
   "source": [
    "samples = []\n",
    "\n",
    "with open('category-samples.json') as f:    \n",
    "    samples = json.loads(f.read()) \n",
    "\n",
    "# Create a list of ClassifyExample objects\n",
    "classify_examples = []\n",
    "\n",
    "for sample in samples:\n",
    "    classify_examples.append(ClassifyExample(text=sample['body'], label=sample['category']))\n",
    "\n",
    "\n",
    "input = ['Leader of the Opposition Pritam Singh on Monday (Sep 9) failed in his bid to have his case heard in High Court. Singh, 48, faces two charges of lying to a Committee of Privileges over Raeesah Khan\\'s case. In dismissing his application, Justice Hoo Sheau Peng found that there are no strong public interest considerations to justify the transfer. She rejected Singh\\'s argument that his status as a politician gives rise to strong public interest considerations. \"The fundamental rule is that all accused persons regardless of their status is to be treated equally,\" said Justice Hoo. \"There\\'s no justification for treating politicians differently from other accused persons.\"']\n",
    "input_b = ['China and the Philippines reached a deal in July to enable the continuation of Philippine resupply missions at the disputed Second Thomas Shoal in the South China Sea. The confrontation reached new heights in June when Manila accused Chinese forces of intercepting Philippine boats, seizing supplies and injuring a Filipino sailor. But the deal has not eased broader tensions as China reportedly fired flares “dangerously” close to Philippine aircraft multiple times in August. The dispute over Second Thomas Shoal - where the security situation has been deteriorating since 2021 - has been a tinderbox in the broader contest in the South China Sea. China has attempted to block the Philippines’ resupply missions to its marines deployed on an old ship that was deliberately grounded on the shoal in 1999 to serve as a Philippine military outpost.']\n"
   ]
  },
  {
   "cell_type": "code",
   "execution_count": 35,
   "metadata": {},
   "outputs": [],
   "source": [
    "def classify_text(inputs, examples):\n",
    "    \"\"\"\n",
    "    Classifies a list of input texts given the examples\n",
    "    Arguments:\n",
    "        model (str): identifier of the model\n",
    "        inputs (list[str]): a list of input texts to be classified\n",
    "        examples (list[Example]): a list of example texts and class labels\n",
    "    Returns:\n",
    "        classifications (list): each result contains the text, labels, and conf values\n",
    "    \"\"\"\n",
    "    # Classify text by calling the Classify endpoint\n",
    "    response = co.classify(\n",
    "        model='embed-english-v3.0',\n",
    "        inputs=inputs,\n",
    "        examples=examples)\n",
    "\n",
    "    classifications = response.classifications\n",
    "\n",
    "    return classifications\n",
    "\n",
    "# Classify the inputs\n",
    "# predictions = classify_text(input, classify_examples)\n",
    "predictions = classify_text(input_b, classify_examples)"
   ]
  },
  {
   "cell_type": "code",
   "execution_count": 36,
   "metadata": {},
   "outputs": [
    {
     "name": "stdout",
     "output_type": "stream",
     "text": [
      "[ClassifyResponseClassificationsItem(id='032dfb67-2184-4607-b249-aeb369b1a295', input='china and the philippines reached a deal in july to enable the continuation of philippine resupply missions at the disputed second thomas shoal in the south china sea. the confrontation reached new heights in june when manila accused chinese forces of intercepting philippine boats, seizing supplies and injuring a filipino sailor. but the deal has not eased broader tensions as china reportedly fired flares “ dangerously ” close to philippine aircraft multiple times in august. the dispute over second thomas shoal - where the security situation has been deteriorating since 2021 - has been a tinderbox in the broader contest in the south china sea. china has attempted to block the philippines ’ resupply missions to its marines deployed on an old ship that was deliberately grounded on the shoal in 1999 to serve as a philippine military outpost.', prediction='Singapore', predictions=['Singapore'], confidence=0.518273, confidences=[0.518273], labels={'Commentary': ClassifyResponseClassificationsItemLabelsValue(confidence=0.48172697), 'Singapore': ClassifyResponseClassificationsItemLabelsValue(confidence=0.518273)}, classification_type='single-label')]\n"
     ]
    }
   ],
   "source": [
    "print(predictions)"
   ]
  }
 ],
 "metadata": {
  "kernelspec": {
   "display_name": "py311",
   "language": "python",
   "name": "python3"
  },
  "language_info": {
   "codemirror_mode": {
    "name": "ipython",
    "version": 3
   },
   "file_extension": ".py",
   "mimetype": "text/x-python",
   "name": "python",
   "nbconvert_exporter": "python",
   "pygments_lexer": "ipython3",
   "version": "3.11.9"
  }
 },
 "nbformat": 4,
 "nbformat_minor": 2
}
