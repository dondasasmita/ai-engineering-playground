{
 "cells": [
  {
   "cell_type": "markdown",
   "metadata": {},
   "source": [
    "### Lambda\n",
    "Is used to define function in a single line. Below is an example. "
   ]
  },
  {
   "cell_type": "code",
   "execution_count": 2,
   "metadata": {},
   "outputs": [
    {
     "name": "stdout",
     "output_type": "stream",
     "text": [
      "100\n"
     ]
    }
   ],
   "source": [
    "double_value = lambda x: x * x\n",
    "value = double_value(10)\n",
    "print(value)"
   ]
  },
  {
   "cell_type": "markdown",
   "metadata": {},
   "source": [
    "###  use \\* in an argument\n",
    "We use `*` if we dont know how many arguments that will be passed to our function. This way the function will receive a tuple of arguments"
   ]
  },
  {
   "cell_type": "code",
   "execution_count": 3,
   "metadata": {},
   "outputs": [
    {
     "name": "stdout",
     "output_type": "stream",
     "text": [
      "3\n",
      "4\n"
     ]
    }
   ],
   "source": [
    "check_num_arguments = lambda *x: len(x)\n",
    "num_1 = check_num_arguments(\"Jojo\", \"Donda\", \"Judy\")\n",
    "num_2 = check_num_arguments(\"Jojo\", \"Donda\", \"Judy\", \"Aha\")\n",
    "print(num_1)\n",
    "print(num_2)\n"
   ]
  },
  {
   "cell_type": "markdown",
   "metadata": {},
   "source": [
    "### using `**` in an argument\n",
    "When we use `**a` in the function definition, it tells Python that this function can accept any number of keyword arguments.\n",
    "These arguments will be collected into a dictionary.\n"
   ]
  },
  {
   "cell_type": "code",
   "execution_count": 6,
   "metadata": {},
   "outputs": [
    {
     "name": "stdout",
     "output_type": "stream",
     "text": [
      "Y\n",
      "None\n"
     ]
    }
   ],
   "source": [
    "check_last_name = lambda **x: print(x['l_name'])\n",
    "donda_l_name = check_last_name(f_name= \"Donda\", l_name = \"Y\")\n",
    "print(donda_l_name)"
   ]
  },
  {
   "cell_type": "markdown",
   "metadata": {},
   "source": [
    "### Imperative vs Declarative\n",
    "Imperative code follows a step-by-step process, while declarative code creates less external states.\n"
   ]
  },
  {
   "cell_type": "code",
   "execution_count": 8,
   "metadata": {},
   "outputs": [
    {
     "name": "stdout",
     "output_type": "stream",
     "text": [
      "15\n",
      "15\n"
     ]
    }
   ],
   "source": [
    "### Imperative ###\n",
    "\n",
    "total = 0\n",
    "myList = [1,2,3,4,5]\n",
    "\n",
    "for x in myList:\n",
    "     total += x\n",
    "print(total)\n",
    "\n",
    "### Declarative ###\n",
    "\n",
    "total = sum(myList)\n",
    "print(total)\n"
   ]
  },
  {
   "cell_type": "markdown",
   "metadata": {},
   "source": [
    "### Pure Functions\n",
    "Pure functions are a key concept in functional programming. A function is considered pure if it always returns the same output for the same set of inputs and does not produce side effects like modifying the input or any data outside of the function.\n",
    "`map` and `reduce` built in functions in Python are pure functions"
   ]
  },
  {
   "cell_type": "code",
   "execution_count": 10,
   "metadata": {},
   "outputs": [
    {
     "name": "stdout",
     "output_type": "stream",
     "text": [
      "[1, 4, 9, 16, 25]\n",
      "210\n"
     ]
    }
   ],
   "source": [
    "def square(number):\n",
    "     return number ** 2\n",
    "numbers = [1, 2, 3, 4, 5]\n",
    "squared = map(square, numbers)\n",
    "print(list(squared))\n",
    "\n",
    "\n",
    "from functools import reduce\n",
    "def product(x,y):\n",
    "    return x*y\n",
    "print(reduce(product, [2, 5, 3, 7]))\n"
   ]
  },
  {
   "cell_type": "code",
   "execution_count": 15,
   "metadata": {},
   "outputs": [
    {
     "name": "stdout",
     "output_type": "stream",
     "text": [
      "({'name': 'Albert Einstein', 'age': 145}, {'name': 'Marie Curie', 'age': 157}, {'name': 'Isaac Newton', 'age': 382}, {'name': 'Nikola Testla', 'age': 168}, {'name': 'Galileo Galilei', 'age': 415}, {'name': 'Ada Lovelace', 'age': 209})\n",
      "1476\n"
     ]
    }
   ],
   "source": [
    "import collections\n",
    "Scientist = collections.namedtuple('Scientist', ['name','born','field', 'nobel'])\n",
    "# Tuples\n",
    "scientists = (\n",
    "   Scientist(name='Albert Einstein',born=1879,field='physics', nobel=True),\n",
    "   Scientist(name='Marie Curie',born=1867,field='chemistry',nobel=True),\n",
    "   Scientist(name='Isaac Newton',born=1642,field='mathematics', nobel=False),\n",
    "   Scientist(name='Nikola Testla',born=1856,field='electrical', nobel=False),\n",
    "   Scientist(name='Galileo Galilei',born=1609,field='mathematics', nobel=False),\n",
    "   Scientist(name='Ada Lovelace',born=1815,field='computer', nobel=False)\n",
    ")\n",
    "\n",
    "\n",
    "name_and_ages = tuple(map(lambda x: {'name':x.name, 'age':2024 -x.born}, scientists))\n",
    "print(name_and_ages)\n",
    "\n",
    "total_age = reduce(lambda acc, val: acc + val['age'], name_and_ages, 0)\n",
    "print(total_age)"
   ]
  },
  {
   "cell_type": "markdown",
   "metadata": {},
   "source": [
    "### Functional Closure\n",
    "A closure is a technique where a function \"remembers\" the environment in which it was created."
   ]
  },
  {
   "cell_type": "code",
   "execution_count": 16,
   "metadata": {},
   "outputs": [
    {
     "name": "stdout",
     "output_type": "stream",
     "text": [
      "16\n",
      "64\n"
     ]
    }
   ],
   "source": [
    "def power_generator(n):\n",
    "    def nth_power(x):\n",
    "        return x ** n\n",
    "    return nth_power\n",
    "square = power_generator(2)\n",
    "cube = power_generator(3)\n",
    "\n",
    "print(square(4))  # Output: 16\n",
    "print(cube(4))   # Output: 64"
   ]
  },
  {
   "cell_type": "markdown",
   "metadata": {},
   "source": [
    "### Decorator\n",
    "This is simlar to OOP annotations (dependency injection). This can be useful eg to intercept a flow. Several examples: \n",
    "- `login_required` \n",
    "- similar functionality as a middleware"
   ]
  },
  {
   "cell_type": "code",
   "execution_count": 17,
   "metadata": {},
   "outputs": [
    {
     "name": "stdout",
     "output_type": "stream",
     "text": [
      "slow_function took 2.005126714706421 seconds\n",
      "fast_function took 2.4080276489257812e-05 seconds\n"
     ]
    }
   ],
   "source": [
    "import time\n",
    "\n",
    "def timer(func):\n",
    "    def wrapper(*args, **kwargs):\n",
    "        start = time.time()\n",
    "        result = func(*args, **kwargs)\n",
    "        end = time.time()\n",
    "        print(f\"{func.__name__} took {end - start} seconds\")\n",
    "        return result\n",
    "    return wrapper\n",
    "\n",
    "@timer\n",
    "def slow_function():\n",
    "    time.sleep(2)\n",
    "\n",
    "slow_function()"
   ]
  },
  {
   "cell_type": "markdown",
   "metadata": {},
   "source": [
    "### Functional Composition & Currying\n",
    "Functional composition is the act of combining simple functions to build more complicated ones. This compositional approach promotes code reuse, modularity, and readability."
   ]
  },
  {
   "cell_type": "code",
   "execution_count": 19,
   "metadata": {},
   "outputs": [
    {
     "name": "stdout",
     "output_type": "stream",
     "text": [
      "20\n",
      "10\n"
     ]
    }
   ],
   "source": [
    "### Functional Composition ###\n",
    "\n",
    "def compose(func1, func2):\n",
    "    return lambda x: func1(func2(x))\n",
    "\n",
    "def add_five(x):\n",
    "    return x + 5\n",
    "\n",
    "def multiply_three(x):\n",
    "    return x * 3\n",
    "\n",
    "times_three_then_add_five = compose(add_five, multiply_three)\n",
    "\n",
    "print(times_three_then_add_five(5))\n",
    "\n",
    "### Currying ###\n",
    "from functools import partial\n",
    "\n",
    "def multiply(x, y):\n",
    "    return x * y\n",
    "\n",
    "# Create a new function that multiplies by 2\n",
    "double = partial(multiply, 2)\n",
    "\n",
    "print(double(5))  # Output: 10\n"
   ]
  }
 ],
 "metadata": {
  "kernelspec": {
   "display_name": "py310",
   "language": "python",
   "name": "python3"
  },
  "language_info": {
   "codemirror_mode": {
    "name": "ipython",
    "version": 3
   },
   "file_extension": ".py",
   "mimetype": "text/x-python",
   "name": "python",
   "nbconvert_exporter": "python",
   "pygments_lexer": "ipython3",
   "version": "3.10.0"
  }
 },
 "nbformat": 4,
 "nbformat_minor": 2
}
